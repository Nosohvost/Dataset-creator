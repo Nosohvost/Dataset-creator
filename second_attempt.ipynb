{
 "cells": [
  {
   "cell_type": "code",
   "execution_count": 251,
   "metadata": {},
   "outputs": [],
   "source": [
    "import cv2 as cv\n",
    "import os\n",
    "import numpy as np\n",
    "from matplotlib import pyplot as plt"
   ]
  },
  {
   "cell_type": "code",
   "execution_count": 252,
   "metadata": {},
   "outputs": [],
   "source": [
    "# For test purposes\n",
    "VIDEO_PATH = \"sample_videos/cool_dog.mp4\"\n",
    "\n",
    "# Number of pixels cropped from each side\n",
    "TOP_CROP = 100\n",
    "BOTTOM_CROP = 10\n",
    "LEFT_CROP = 0\n",
    "RIGHT_CROP = 50\n",
    "\n",
    "# Dimensions for resized frames\n",
    "FRAME_WIDTH = 576\n",
    "FRAME_HEIGHT = 324\n",
    "\n",
    "# Threshold for pick_frames_sliding function\n",
    "MSE_THRESHOLD = 20\n",
    "\n",
    "# Interval for extract_frames function\n",
    "INTERVAL = 300\n",
    "\n",
    "DATASET_PATH = \"dataset\"\n",
    "OUTPUT_PATH = 'training_dataset'"
   ]
  },
  {
   "cell_type": "code",
   "execution_count": 253,
   "metadata": {},
   "outputs": [],
   "source": [
    "# Crops frame by n pixels in each direction\n",
    "def crop_frame(frame, top_crop, bottom_crop, left_crop, right_crop):\n",
    "    return frame[top_crop : frame.shape[0] - bottom_crop, \n",
    "                 left_crop : frame.shape[1] - right_crop]\n",
    "\n",
    "\n",
    "# Extracts frames from given video and resizes them, taking a frame every n milliseconds\n",
    "def extract_frames(video_path, interval, target_height, target_width):\n",
    "    video = cv.VideoCapture(video_path)\n",
    "    \n",
    "    frames = []\n",
    "    success, frame = video.read()\n",
    "    total_frames = video.get(cv.CAP_PROP_FRAME_COUNT)\n",
    "    i = 0\n",
    "    while success and video.get(cv.CAP_PROP_POS_FRAMES) < total_frames:\n",
    "        # Save current frame\n",
    "        frames.append(cv.resize(frame, (target_width, target_height)))\n",
    "\n",
    "        # Exit the loop if the video is unrealistically long\n",
    "        assert i < 500, \"Maximum number of frames exceeded\"\n",
    "\n",
    "        # Jump <interval> seconds forward\n",
    "        video.set(cv.CAP_PROP_POS_MSEC, i * interval)\n",
    "        success, frame = video.read()\n",
    "        i += 1\n",
    "    return frames"
   ]
  },
  {
   "cell_type": "code",
   "execution_count": 254,
   "metadata": {},
   "outputs": [],
   "source": [
    "# Mean squared error between 2 frames\n",
    "def mse(frame1, frame2):\n",
    "    # Cast uint8 to int32 to avoid overflow\n",
    "    frame1 = frame1.astype(np.int32)\n",
    "    frame2 = frame2.astype(np.int32)\n",
    "    \n",
    "    assert frame1.shape == frame2.shape, \"Shapes do not match\"\n",
    "\n",
    "    # Calculate MSE\n",
    "    mse = np.mean((frame1 - frame2) ** 2)\n",
    "    return mse"
   ]
  },
  {
   "cell_type": "code",
   "execution_count": 255,
   "metadata": {},
   "outputs": [],
   "source": [
    "# Saves frame if its MSE with ref. frame exceeds threshold, then sets it as new ref. frame\n",
    "# does not include first and last 3 frames\n",
    "def pick_frames_sliding(frames, threshold):\n",
    "    # Set first frame as reference frame\n",
    "    reference_frame = frames[0]\n",
    "\n",
    "    picked_frames = []\n",
    "    for frame in frames:\n",
    "        if mse(frame, reference_frame) > threshold:\n",
    "            # Save the current frame and overwrite ref. frame\n",
    "            reference_frame = frame\n",
    "            picked_frames.append(frame)\n",
    "\n",
    "    # Throw an error if no frames were picked\n",
    "    assert len(picked_frames) > 0, \"0 frames picked from the video\"\n",
    "    \n",
    "    return picked_frames[3:-3]\n"
   ]
  },
  {
   "cell_type": "code",
   "execution_count": 256,
   "metadata": {},
   "outputs": [],
   "source": [
    "# Picks frames from a video and saves them\n",
    "def process_video(video_path, output_path):\n",
    "    # Choose frames with moving object\n",
    "    frames = extract_frames(video_path, INTERVAL, FRAME_HEIGHT, FRAME_WIDTH)\n",
    "    for i in range(len(frames)):\n",
    "        frames[i] = crop_frame(frames[i], TOP_CROP, BOTTOM_CROP, LEFT_CROP, RIGHT_CROP)\n",
    "    picked_frames = pick_frames_sliding(frames, MSE_THRESHOLD)\n",
    "\n",
    "    # Get video name from its path\n",
    "    video_name = video_path.split('/')[-1]\n",
    "    video_name = video_name[:-4] # Remove .mp4 from name\n",
    "\n",
    "    # Save frames\n",
    "    for i in range(len(picked_frames)):\n",
    "        cv.imwrite(f'{output_path}/{video_name}_frame{i}.png', picked_frames[i])\n",
    "    "
   ]
  },
  {
   "cell_type": "code",
   "execution_count": 257,
   "metadata": {},
   "outputs": [],
   "source": [
    "# Picks frames from each video in a folder and saves them\n",
    "def process_folder(folder_path, output_path):\n",
    "    video_paths = [f\"{folder_path}/{video}\" for video in os.listdir(folder_path)]\n",
    "    i = 0\n",
    "    for path in video_paths:\n",
    "        process_video(path, output_path)\n",
    "        i += 1\n",
    "        print(f\"{i}/{len(video_paths)} ({i / len(video_paths) * 100}%)\")"
   ]
  },
  {
   "cell_type": "code",
   "execution_count": 258,
   "metadata": {},
   "outputs": [
    {
     "ename": "IndexError",
     "evalue": "list index out of range",
     "output_type": "error",
     "traceback": [
      "\u001b[1;31m---------------------------------------------------------------------------\u001b[0m",
      "\u001b[1;31mIndexError\u001b[0m                                Traceback (most recent call last)",
      "Cell \u001b[1;32mIn[258], line 1\u001b[0m\n\u001b[1;32m----> 1\u001b[0m process_folder(DATASET_PATH, OUTPUT_PATH)\n",
      "Cell \u001b[1;32mIn[257], line 6\u001b[0m, in \u001b[0;36mprocess_folder\u001b[1;34m(folder_path, output_path)\u001b[0m\n\u001b[0;32m      4\u001b[0m i \u001b[39m=\u001b[39m \u001b[39m0\u001b[39m\n\u001b[0;32m      5\u001b[0m \u001b[39mfor\u001b[39;00m path \u001b[39min\u001b[39;00m video_paths:\n\u001b[1;32m----> 6\u001b[0m     process_video(path, output_path)\n\u001b[0;32m      7\u001b[0m     i \u001b[39m+\u001b[39m\u001b[39m=\u001b[39m \u001b[39m1\u001b[39m\n\u001b[0;32m      8\u001b[0m     \u001b[39mprint\u001b[39m(\u001b[39mf\u001b[39m\u001b[39m\"\u001b[39m\u001b[39m{\u001b[39;00mi\u001b[39m}\u001b[39;00m\u001b[39m/\u001b[39m\u001b[39m{\u001b[39;00m\u001b[39mlen\u001b[39m(video_paths)\u001b[39m}\u001b[39;00m\u001b[39m (\u001b[39m\u001b[39m{\u001b[39;00mi\u001b[39m \u001b[39m\u001b[39m/\u001b[39m\u001b[39m \u001b[39m\u001b[39mlen\u001b[39m(video_paths)\u001b[39m \u001b[39m\u001b[39m*\u001b[39m\u001b[39m \u001b[39m\u001b[39m100\u001b[39m\u001b[39m}\u001b[39;00m\u001b[39m%)\u001b[39m\u001b[39m\"\u001b[39m)\n",
      "Cell \u001b[1;32mIn[256], line 7\u001b[0m, in \u001b[0;36mprocess_video\u001b[1;34m(video_path, output_path)\u001b[0m\n\u001b[0;32m      5\u001b[0m \u001b[39mfor\u001b[39;00m i \u001b[39min\u001b[39;00m \u001b[39mrange\u001b[39m(\u001b[39mlen\u001b[39m(frames)):\n\u001b[0;32m      6\u001b[0m     frames[i] \u001b[39m=\u001b[39m crop_frame(frames[i], TOP_CROP, BOTTOM_CROP, LEFT_CROP, RIGHT_CROP)\n\u001b[1;32m----> 7\u001b[0m picked_frames \u001b[39m=\u001b[39m pick_frames_sliding(frames, MSE_THRESHOLD)\n\u001b[0;32m      9\u001b[0m \u001b[39m# Get video name from its path\u001b[39;00m\n\u001b[0;32m     10\u001b[0m video_name \u001b[39m=\u001b[39m video_path\u001b[39m.\u001b[39msplit(\u001b[39m'\u001b[39m\u001b[39m/\u001b[39m\u001b[39m'\u001b[39m)[\u001b[39m-\u001b[39m\u001b[39m1\u001b[39m]\n",
      "Cell \u001b[1;32mIn[255], line 5\u001b[0m, in \u001b[0;36mpick_frames_sliding\u001b[1;34m(frames, threshold)\u001b[0m\n\u001b[0;32m      3\u001b[0m \u001b[39mdef\u001b[39;00m \u001b[39mpick_frames_sliding\u001b[39m(frames, threshold):\n\u001b[0;32m      4\u001b[0m     \u001b[39m# Set first frame as reference frame\u001b[39;00m\n\u001b[1;32m----> 5\u001b[0m     reference_frame \u001b[39m=\u001b[39m frames[\u001b[39m0\u001b[39;49m]\n\u001b[0;32m      7\u001b[0m     picked_frames \u001b[39m=\u001b[39m []\n\u001b[0;32m      8\u001b[0m     \u001b[39mfor\u001b[39;00m frame \u001b[39min\u001b[39;00m frames:\n",
      "\u001b[1;31mIndexError\u001b[0m: list index out of range"
     ]
    }
   ],
   "source": [
    "process_folder(DATASET_PATH, OUTPUT_PATH)"
   ]
  }
 ],
 "metadata": {
  "kernelspec": {
   "display_name": "Python 3",
   "language": "python",
   "name": "python3"
  },
  "language_info": {
   "codemirror_mode": {
    "name": "ipython",
    "version": 3
   },
   "file_extension": ".py",
   "mimetype": "text/x-python",
   "name": "python",
   "nbconvert_exporter": "python",
   "pygments_lexer": "ipython3",
   "version": "3.11.5"
  },
  "orig_nbformat": 4
 },
 "nbformat": 4,
 "nbformat_minor": 2
}
