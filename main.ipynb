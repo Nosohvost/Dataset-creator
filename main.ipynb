{
 "cells": [
  {
   "cell_type": "code",
   "execution_count": 2,
   "metadata": {},
   "outputs": [],
   "source": [
    "import cv2 as cv\n",
    "import os\n",
    "import shutil\n",
    "import numpy as np"
   ]
  },
  {
   "cell_type": "code",
   "execution_count": 5,
   "metadata": {},
   "outputs": [
    {
     "name": "stdout",
     "output_type": "stream",
     "text": [
      "Total frames: 142.0\n",
      "1.0\n",
      "1.0\n",
      "16.0\n",
      "31.0\n",
      "46.0\n",
      "61.0\n",
      "76.0\n",
      "91.0\n",
      "106.0\n",
      "120.0\n",
      "135.0\n"
     ]
    }
   ],
   "source": [
    "# Extracts frames from given video into target directory, saving a frame every n milliseconds\n",
    "def extract_frames(video_path, target_path, interval):\n",
    "    video = cv.VideoCapture(video_path)\n",
    "    if os.path.exists(target_path):\n",
    "        shutil.rmtree(target_path)\n",
    "    os.mkdir(target_path)\n",
    "\n",
    "    success, frame = video.read()\n",
    "    total_frames = video.get(cv.CAP_PROP_FRAME_COUNT)\n",
    "    i = 0\n",
    "    while success and video.get(cv.CAP_PROP_POS_FRAMES) < total_frames:\n",
    "        assert i < 500, \"Maximum number of frames exceeded\"\n",
    "        cv.imwrite(f'{target_path}/frame{i}.png', frame)  \n",
    "        video.set(cv.CAP_PROP_POS_MSEC, i * interval)\n",
    "        success, frame = video.read()\n",
    "        i += 1\n",
    "\n",
    "extract_frames('videos/cool_fox.mp4', 'extracted_frames')"
   ]
  },
  {
   "cell_type": "code",
   "execution_count": 29,
   "metadata": {},
   "outputs": [
    {
     "name": "stdout",
     "output_type": "stream",
     "text": [
      "14.945234926809295\n",
      "146.0\n"
     ]
    }
   ],
   "source": [
    "video = cv2.VideoCapture('videos/cool_cat.mp4')\n",
    "_, img = video.read()\n",
    "print(video.get(cv2.CAP_PROP_FPS))\n",
    "print(video.get(cv2.CAP_PROP_FRAME_COUNT)) "
   ]
  },
  {
   "cell_type": "code",
   "execution_count": 2,
   "metadata": {},
   "outputs": [],
   "source": [
    "def mse(img1, img2):\n",
    "   h, w, _ = img1.shape\n",
    "   diff = cv2.subtract(img1, img2)\n",
    "   err = np.sum(diff**2)\n",
    "   mse = err/(float(h*w))\n",
    "   return mse"
   ]
  },
  {
   "cell_type": "code",
   "execution_count": 3,
   "metadata": {},
   "outputs": [
    {
     "ename": "AttributeError",
     "evalue": "'NoneType' object has no attribute 'shape'",
     "output_type": "error",
     "traceback": [
      "\u001b[1;31m---------------------------------------------------------------------------\u001b[0m",
      "\u001b[1;31mAttributeError\u001b[0m                            Traceback (most recent call last)",
      "Cell \u001b[1;32mIn[3], line 5\u001b[0m\n\u001b[0;32m      1\u001b[0m start \u001b[39m=\u001b[39m cv2\u001b[39m.\u001b[39mimread(\u001b[39m'\u001b[39m\u001b[39mtmp_folder/frame0.png\u001b[39m\u001b[39m'\u001b[39m)\n\u001b[0;32m      2\u001b[0m end \u001b[39m=\u001b[39m cv2\u001b[39m.\u001b[39mimread(\u001b[39m'\u001b[39m\u001b[39mtmp_folder/frame10.png\u001b[39m\u001b[39m'\u001b[39m)\n\u001b[1;32m----> 5\u001b[0m diff \u001b[39m=\u001b[39m mse(start, end)\n\u001b[0;32m      6\u001b[0m \u001b[39mprint\u001b[39m(diff)\n",
      "Cell \u001b[1;32mIn[2], line 2\u001b[0m, in \u001b[0;36mmse\u001b[1;34m(img1, img2)\u001b[0m\n\u001b[0;32m      1\u001b[0m \u001b[39mdef\u001b[39;00m \u001b[39mmse\u001b[39m(img1, img2):\n\u001b[1;32m----> 2\u001b[0m    h, w, _ \u001b[39m=\u001b[39m img1\u001b[39m.\u001b[39;49mshape\n\u001b[0;32m      3\u001b[0m    diff \u001b[39m=\u001b[39m cv2\u001b[39m.\u001b[39msubtract(img1, img2)\n\u001b[0;32m      4\u001b[0m    err \u001b[39m=\u001b[39m np\u001b[39m.\u001b[39msum(diff\u001b[39m*\u001b[39m\u001b[39m*\u001b[39m\u001b[39m2\u001b[39m)\n",
      "\u001b[1;31mAttributeError\u001b[0m: 'NoneType' object has no attribute 'shape'"
     ]
    }
   ],
   "source": [
    "start = cv2.imread('tmp_folder/frame0.png')\n",
    "end = cv2.imread('tmp_folder/frame10.png')\n",
    "\n",
    "\n",
    "diff = mse(start, end)\n",
    "print(diff)"
   ]
  }
 ],
 "metadata": {
  "kernelspec": {
   "display_name": "Python 3",
   "language": "python",
   "name": "python3"
  },
  "language_info": {
   "codemirror_mode": {
    "name": "ipython",
    "version": 3
   },
   "file_extension": ".py",
   "mimetype": "text/x-python",
   "name": "python",
   "nbconvert_exporter": "python",
   "pygments_lexer": "ipython3",
   "version": "3.11.4"
  },
  "orig_nbformat": 4
 },
 "nbformat": 4,
 "nbformat_minor": 2
}
